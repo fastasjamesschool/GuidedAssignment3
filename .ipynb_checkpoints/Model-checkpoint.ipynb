{
 "cells": [
  {
   "cell_type": "code",
   "execution_count": 4,
   "id": "099ed5a0",
   "metadata": {},
   "outputs": [
    {
     "data": {
      "text/html": [
       "<div>\n",
       "<style scoped>\n",
       "    .dataframe tbody tr th:only-of-type {\n",
       "        vertical-align: middle;\n",
       "    }\n",
       "\n",
       "    .dataframe tbody tr th {\n",
       "        vertical-align: top;\n",
       "    }\n",
       "\n",
       "    .dataframe thead th {\n",
       "        text-align: right;\n",
       "    }\n",
       "</style>\n",
       "<table border=\"1\" class=\"dataframe\">\n",
       "  <thead>\n",
       "    <tr style=\"text-align: right;\">\n",
       "      <th></th>\n",
       "      <th>empire_or_resistance</th>\n",
       "      <th>count</th>\n",
       "    </tr>\n",
       "  </thead>\n",
       "  <tbody>\n",
       "    <tr>\n",
       "      <th>0</th>\n",
       "      <td>empire</td>\n",
       "      <td>491</td>\n",
       "    </tr>\n",
       "    <tr>\n",
       "      <th>1</th>\n",
       "      <td>resistance</td>\n",
       "      <td>509</td>\n",
       "    </tr>\n",
       "  </tbody>\n",
       "</table>\n",
       "</div>"
      ],
      "text/plain": [
       "  empire_or_resistance  count\n",
       "0               empire    491\n",
       "1           resistance    509"
      ]
     },
     "execution_count": 4,
     "metadata": {},
     "output_type": "execute_result"
    }
   ],
   "source": [
    "import pandas as pd\n",
    "import pickle\n",
    "\n",
    "df = pd.read_csv(\"C:/Users/wasadmin/Desktop/Starwarsapi3/GuidedAssignment3/troop_movements.csv\")\n",
    "\n",
    "df2 = df.groupby(['empire_or_resistance']).size()\n",
    "\n",
    "info = [['empire',df2[0]], ['resistance',df2[1]]]\n",
    "df3 = pd.DataFrame(info, columns = ['empire_or_resistance', 'count'])\n",
    "df3\n"
   ]
  },
  {
   "cell_type": "code",
   "execution_count": 13,
   "id": "5bbe9805",
   "metadata": {},
   "outputs": [
    {
     "name": "stdout",
     "output_type": "stream",
     "text": [
      "<class 'pandas.core.series.Series'>\n"
     ]
    },
    {
     "data": {
      "text/plain": [
       "homeworld\n",
       "Alderaan        23\n",
       "Aleen Minor     21\n",
       "Bestine IV      19\n",
       "Cerea           18\n",
       "Champala        29\n",
       "Chandrila       29\n",
       "Concord Dawn    26\n",
       "Corellia        27\n",
       "Dagobah         19\n",
       "Dathomir        28\n",
       "Dorin           24\n",
       "Eriadu          17\n",
       "Glee Anselm     20\n",
       "Haruun Kal      24\n",
       "Iktotch         35\n",
       "Iridonia        19\n",
       "Kalee           31\n",
       "Kashyyyk        18\n",
       "Malastare       23\n",
       "Mirial          27\n",
       "Mon Cala        24\n",
       "Muunilinst      25\n",
       "Naboo           25\n",
       "Ojom            25\n",
       "Quermia         20\n",
       "Rodia           25\n",
       "Ryloth          23\n",
       "Serenno         32\n",
       "Shili           24\n",
       "Skako           19\n",
       "Socorro         21\n",
       "Stewjon         23\n",
       "Sullust         20\n",
       "Tatooine        22\n",
       "Tholoth         24\n",
       "Toydaria        26\n",
       "Trandosha       28\n",
       "Troiken         21\n",
       "Tund            14\n",
       "Umbara          30\n",
       "Vulpter         23\n",
       "Zolan           29\n",
       "dtype: int64"
      ]
     },
     "execution_count": 13,
     "metadata": {},
     "output_type": "execute_result"
    }
   ],
   "source": [
    "df2 = df.groupby(['homeworld']).size()\n",
    "df2.columns=['Test','test1']\n",
    "type(df2)\n",
    "df2 = df2.rename(columns={\"homeworld\": \"Homeworld\"})\n",
    "df2\n",
    "#info = [['homeworld']]"
   ]
  },
  {
   "cell_type": "code",
   "execution_count": null,
   "id": "eb7d9372",
   "metadata": {},
   "outputs": [],
   "source": []
  }
 ],
 "metadata": {
  "kernelspec": {
   "display_name": "Python 3 (ipykernel)",
   "language": "python",
   "name": "python3"
  },
  "language_info": {
   "codemirror_mode": {
    "name": "ipython",
    "version": 3
   },
   "file_extension": ".py",
   "mimetype": "text/x-python",
   "name": "python",
   "nbconvert_exporter": "python",
   "pygments_lexer": "ipython3",
   "version": "3.10.9"
  }
 },
 "nbformat": 4,
 "nbformat_minor": 5
}
